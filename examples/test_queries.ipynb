{
 "cells": [
  {
   "cell_type": "code",
   "execution_count": 2,
   "metadata": {},
   "outputs": [],
   "source": [
    "import requests\n",
    "from requests.adapters import HTTPAdapter, Retry"
   ]
  },
  {
   "cell_type": "code",
   "execution_count": 3,
   "metadata": {},
   "outputs": [],
   "source": [
    "queries=[{\"query\": \"langchain\"},\n",
    "         {\"query\": \"Ansprechpartner Förderprogramme\"},]"
   ]
  },
  {
   "cell_type": "code",
   "execution_count": 10,
   "metadata": {},
   "outputs": [
    {
     "data": {
      "text/plain": [
       "<Response [200]>"
      ]
     },
     "execution_count": 10,
     "metadata": {},
     "output_type": "execute_result"
    }
   ],
   "source": [
    "res = requests.post(\n",
    "    \"http://0.0.0.0:3333/query\",\n",
    "    #headers=headers,\n",
    "    json={\n",
    "        'queries': queries[:3]\n",
    "    }\n",
    ")\n",
    "res"
   ]
  },
  {
   "cell_type": "code",
   "execution_count": 12,
   "metadata": {},
   "outputs": [
    {
     "name": "stdout",
     "output_type": "stream",
     "text": [
      "----------------------------------------------------------------------\n",
      "langchain\n",
      "\n",
      "### Beispiel für Streamlit\n",
      "https://huggingface.co/spaces/llamaindex/llama_agi_auto/tree/main\n",
      "https://github.com/peterw/Chat-with-Github-Repo/tree/main\n",
      "\n",
      "### Chainlit\n",
      "https://docs.chainlit.io/langchain\n",
      "### Neue Links\n",
      "[g-emarco/github-assistant\n",
      "Beispiel für deployment über Google Cloud run](https://www.notion.so/jph1/4dce870f-8232-45e9-8411-a9908259392d)\n",
      "### Neue Links\n",
      "[llama_index/guidance_sub_question.ipynb at main · jerryjliu/llama_index · GitHub\n",
      "\n",
      "llama index python ](https://www.notion.so/jph1/6d61da1e-4e48-4f6d-b32c-21146deddf68)\n",
      "### Sonstiges\n",
      "[Debugging / Code-Snippets](https://www.notion.so/jph1/1ead83d4-bff3-4dfa-b392-3c3197623377)\n",
      "[Prompts](https://www.notion.so/jph1/3164105a-0150-432d-9a3d-65c7e03996bf)\n",
      "[Artikel: Building LLM applications for production](https://www.notion.so/jph1/f01b2d55-a03f-424a-89f3-8ce09c4f638a)\n",
      "\n",
      "\n",
      "Tree-Like Prompting:\n",
      "https://flux.paradigm.xyz/\n",
      "\n",
      "\n",
      "### Neue Links:\n",
      "----------------------------------------------------------------------\n",
      "\n",
      "\n",
      "----------------------------------------------------------------------\n",
      "Ansprechpartner Förderprogramme\n",
      "\n",
      "Potentielle Kontakte / Ideen\n",
      "\n",
      "https://www.zenit.de/leistungen/innovationsberatung-technologietransfer/\n",
      "Justus Haucap - Strommarkt der Zukunft – 2 (siehe \n",
      "\n",
      "\n",
      "### DBU Green Start-Up\n",
      "https://www.dbu.de/foerderung/green-start-up/\n",
      "\n",
      "### Förderkredite NRWBank\n",
      "Ansprechpartner Förderkredite NRWBank: Hendrik Maatz / Karin Scholer\n",
      "Hendrik.maatz@nrwbank.de\n",
      "\n",
      "\n",
      "### Accelerator\n",
      "Accelerator Programme - siehe Teilnehmer:\n",
      "### Bewerbung Gründerstipendium\n",
      "Status: Backlog\n",
      "Kategorien: Orga\n",
      "Deadline: 2023-06-29\n",
      "Details: Siehe  [Förderprogramme, Funding, Accelerator](https://www.notion.so/e46124f93f0c470bb1ec2c0d909316b3)\n",
      "----------------------------------------------------------------------\n",
      "\n",
      "\n"
     ]
    }
   ],
   "source": [
    "for query_result in res.json()['results']:\n",
    "    query = query_result['query']\n",
    "    answers = []\n",
    "    for result in query_result['results']:\n",
    "        answers.append(result['text'])\n",
    "    print(\"-\"*70+\"\\n\"+query+\"\\n\\n\"+\"\\n\".join([f\"{a}\" for a in answers])+\"\\n\"+\"-\"*70+\"\\n\\n\")"
   ]
  },
  {
   "cell_type": "code",
   "execution_count": null,
   "metadata": {},
   "outputs": [],
   "source": []
  }
 ],
 "metadata": {
  "kernelspec": {
   "display_name": ".venv",
   "language": "python",
   "name": "python3"
  },
  "language_info": {
   "codemirror_mode": {
    "name": "ipython",
    "version": 3
   },
   "file_extension": ".py",
   "mimetype": "text/x-python",
   "name": "python",
   "nbconvert_exporter": "python",
   "pygments_lexer": "ipython3",
   "version": "3.10.12"
  },
  "orig_nbformat": 4
 },
 "nbformat": 4,
 "nbformat_minor": 2
}
