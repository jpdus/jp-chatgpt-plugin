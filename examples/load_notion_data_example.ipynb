{
 "cells": [
  {
   "cell_type": "code",
   "execution_count": null,
   "metadata": {},
   "outputs": [],
   "source": [
    "from jpllm.util.notion import get_all_notion, split_documents, update_pinecone_index_notion, get_pinecone_retriever_notion"
   ]
  },
  {
   "cell_type": "code",
   "execution_count": null,
   "metadata": {},
   "outputs": [],
   "source": [
    "notion_docs=await get_all_notion()\n",
    "notion_docs=split_documents(notion_docs)"
   ]
  },
  {
   "cell_type": "code",
   "execution_count": null,
   "metadata": {},
   "outputs": [],
   "source": [
    "retriever=update_pinecone_index_notion(notion_docs,\n",
    "                                       kind='dense', #hybrid\n",
    "                                       drop_index=True)"
   ]
  },
  {
   "cell_type": "code",
   "execution_count": null,
   "metadata": {},
   "outputs": [],
   "source": [
    "retriever=get_pinecone_retriever_notion(kind='dense')\n",
    "#retriever.vectorstore.add_texts(texts=[doc.page_content for doc #in notion_docs2],\n",
    "#                    ids=[doc.metadata['id'] for doc in #notion_docs2],\n",
    "#                    metadatas=[doc.metadata for doc in #notion_docs2]) "
   ]
  },
  {
   "cell_type": "code",
   "execution_count": null,
   "metadata": {},
   "outputs": [],
   "source": [
    "result = retriever.get_relevant_documents(\"openai functions\")\n",
    "for subresult in result:\n",
    "    print(subresult.page_content[:1000])\n",
    "    print()\n",
    "    print('-------------------')\n",
    "    print()"
   ]
  }
 ],
 "metadata": {
  "language_info": {
   "name": "python"
  },
  "orig_nbformat": 4
 },
 "nbformat": 4,
 "nbformat_minor": 2
}
